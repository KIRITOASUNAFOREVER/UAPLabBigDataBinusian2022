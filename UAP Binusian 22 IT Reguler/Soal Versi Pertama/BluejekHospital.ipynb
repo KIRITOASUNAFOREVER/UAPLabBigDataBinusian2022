{
 "cells": [
  {
   "cell_type": "code",
   "execution_count": 1,
   "metadata": {},
   "outputs": [],
   "source": [
    "from pyspark.sql import SparkSession\n",
    "\n",
    "spark = SparkSession.builder.getOrCreate()"
   ]
  },
  {
   "cell_type": "code",
   "execution_count": 2,
   "metadata": {},
   "outputs": [],
   "source": [
    "training = spark.read.option(\"inferSchema\",\"true\").csv(\"Classification_Train.csv\",header=True)\n",
    "testing = spark.read.option(\"inferSchema\",\"true\").csv(\"Classification_Test.csv\",header=True)"
   ]
  },
  {
   "cell_type": "code",
   "execution_count": 3,
   "metadata": {},
   "outputs": [],
   "source": [
    "training = training.select(\"Education Level\",\"Married\",\"Salary Income\",\"Depressed\")\n",
    "testing = testing.select(\"Education Level\",\"Married\",\"Salary Income\",\"Depressed\")"
   ]
  },
  {
   "cell_type": "code",
   "execution_count": 5,
   "metadata": {},
   "outputs": [],
   "source": [
    "training = training.na.drop()\n",
    "testing = testing.na.drop()"
   ]
  },
  {
   "cell_type": "code",
   "execution_count": 6,
   "metadata": {},
   "outputs": [],
   "source": [
    "from pyspark.sql.functions import when\n",
    "\n",
    "training = training.withColumn(\"Education Level\",when(training[\"Education Level\"] == \"Low\",0)\n",
    "                                                .when(training[\"Education Level\"] == \"Intermediate\",1)\n",
    "                                                .otherwise(2))\n",
    "\n",
    "testing = testing.withColumn(\"Education Level\",when(testing[\"Education Level\"] == \"Low\",0)\n",
    "                                                .when(testing[\"Education Level\"] == \"Intermediate\",1)\n",
    "                                                .otherwise(2))\n",
    "\n",
    "training = training.withColumn(\"Married\",when(training[\"Married\"] == \"No\",0)\n",
    "                                        .otherwise(1))\n",
    "\n",
    "testing = testing.withColumn(\"Married\",when(testing[\"Married\"] == \"No\",0)\n",
    "                                        .otherwise(1))\n",
    "\n",
    "training = training.withColumn(\"Depressed\",when(training[\"Depressed\"] == \"No\",0)\n",
    "                                        .otherwise(1))\n",
    "\n",
    "testing = testing.withColumn(\"Depressed\",when(testing[\"Depressed\"] == \"No\",0)\n",
    "                                        .otherwise(1))"
   ]
  },
  {
   "cell_type": "code",
   "execution_count": 9,
   "metadata": {},
   "outputs": [],
   "source": [
    "from pyspark.ml.feature import VectorAssembler, StandardScaler\n",
    "\n",
    "cols = training.columns\n",
    "cols.remove(\"Depressed\")\n",
    "\n",
    "training = VectorAssembler(inputCols=cols, outputCol=\"Features\").transform(training)\n",
    "testing = VectorAssembler(inputCols=cols, outputCol=\"Features\").transform(testing)"
   ]
  },
  {
   "cell_type": "code",
   "execution_count": 12,
   "metadata": {},
   "outputs": [],
   "source": [
    "scaler = StandardScaler(inputCol=\"Features\",outputCol=\"Scaled Features\")\n",
    "training = scaler.fit(training).transform(training)\n",
    "testing = scaler.fit(testing).transform(testing)"
   ]
  },
  {
   "cell_type": "code",
   "execution_count": 15,
   "metadata": {},
   "outputs": [],
   "source": [
    "from pyspark.ml.classification import LogisticRegression\n",
    "\n",
    "model = LogisticRegression(featuresCol=\"Scaled Features\",labelCol=\"Depressed\",maxIter=10).fit(training)\n",
    "prediction = model.transform(testing)"
   ]
  },
  {
   "cell_type": "code",
   "execution_count": 19,
   "metadata": {},
   "outputs": [
    {
     "name": "stdout",
     "output_type": "stream",
     "text": [
      "Accuracy: 87.06157923010207%\n"
     ]
    }
   ],
   "source": [
    "from pyspark.ml.evaluation import BinaryClassificationEvaluator\n",
    "\n",
    "evaluator = BinaryClassificationEvaluator(rawPredictionCol=\"rawPrediction\",labelCol=\"Depressed\")\n",
    "result = evaluator.evaluate(prediction)\n",
    "print(\"Accuracy: {}%\".format(result * 100))"
   ]
  },
  {
   "cell_type": "code",
   "execution_count": 14,
   "metadata": {},
   "outputs": [
    {
     "name": "stdout",
     "output_type": "stream",
     "text": [
      "+---------------+-------+-------------+---------+----------------+----------------------------------------------------------+\n",
      "|Education Level|Married|Salary Income|Depressed|Features        |Scaled Features                                           |\n",
      "+---------------+-------+-------------+---------+----------------+----------------------------------------------------------+\n",
      "|1              |1      |85000000     |0        |[1.0,1.0,8.5E7] |[1.2959574236207398,2.0004291810120303,2.0520111267842664]|\n",
      "|1              |0      |14000000     |0        |[1.0,0.0,1.4E7] |[1.2959574236207398,0.0,0.3379783032350556]               |\n",
      "|0              |0      |148000000    |1        |[0.0,0.0,1.48E8]|[0.0,0.0,3.5729134913420166]                              |\n",
      "+---------------+-------+-------------+---------+----------------+----------------------------------------------------------+\n",
      "only showing top 3 rows\n",
      "\n",
      "+---------------+-------+-------------+---------+----------------+---------------------------------------------------------+\n",
      "|Education Level|Married|Salary Income|Depressed|Features        |Scaled Features                                          |\n",
      "+---------------+-------+-------------+---------+----------------+---------------------------------------------------------+\n",
      "|0              |0      |74000000     |1        |[0.0,0.0,7.4E7] |[0.0,0.0,1.8039685480507293]                             |\n",
      "|2              |1      |29000000     |0        |[2.0,1.0,2.9E7] |[2.549743823563889,1.999503936496242,0.7069606472090696] |\n",
      "|1              |1      |134000000    |0        |[1.0,1.0,1.34E8]|[1.2748719117819445,1.999503936496242,3.2666457491729424]|\n",
      "+---------------+-------+-------------+---------+----------------+---------------------------------------------------------+\n",
      "only showing top 3 rows\n",
      "\n"
     ]
    }
   ],
   "source": [
    "training.show(3,False)\n",
    "testing.show(3,False)"
   ]
  },
  {
   "cell_type": "code",
   "execution_count": null,
   "metadata": {},
   "outputs": [],
   "source": []
  }
 ],
 "metadata": {
  "kernelspec": {
   "display_name": "Python 3",
   "language": "python",
   "name": "python3"
  },
  "language_info": {
   "codemirror_mode": {
    "name": "ipython",
    "version": 3
   },
   "file_extension": ".py",
   "mimetype": "text/x-python",
   "name": "python",
   "nbconvert_exporter": "python",
   "pygments_lexer": "ipython3",
   "version": "3.7.4"
  }
 },
 "nbformat": 4,
 "nbformat_minor": 2
}
